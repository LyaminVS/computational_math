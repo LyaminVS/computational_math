{
 "cells": [
  {
   "cell_type": "markdown",
   "id": "d21677f1",
   "metadata": {},
   "source": [
    "найдем координаты первого корня(все формулы преведены в pdf файле)"
   ]
  },
  {
   "cell_type": "code",
   "execution_count": 1,
   "id": "88dc3db8",
   "metadata": {},
   "outputs": [],
   "source": [
    "def iterator(x_0, y_0, f_1, f_2, err=1e-3):\n",
    "    x_prev, y_prev = np.inf, np.inf\n",
    "    x, y = x_0, y_0\n",
    "    iteration_number = 0\n",
    "    while ((x - x_prev) ** 2 + (y - y_prev) ** 2) ** 0.5 > err:\n",
    "        iteration_number += 1\n",
    "        x_prev, y_prev = x, y\n",
    "        x, y = f_1(x_prev, y_prev), f_2(x_prev, y_prev)\n",
    "    return np.array([x, y]), iteration_number"
   ]
  },
  {
   "cell_type": "code",
   "execution_count": 2,
   "id": "c98edc75",
   "metadata": {},
   "outputs": [
    {
     "name": "stdout",
     "output_type": "stream",
     "text": [
      "Первая точка пересечения - [1.04908189 0.411946  ],\n",
      "Количество итераций - 61\n"
     ]
    }
   ],
   "source": [
    "import numpy as np\n",
    "\n",
    "x_0 = np.random.rand() * 0.2 + 1\n",
    "y_0 = np.random.rand() * 0.5\n",
    "\n",
    "def f_1_1(x, y):\n",
    "    return np.sqrt(np.tan(x * y + 0.4))\n",
    "\n",
    "def f_1_2(x, y):\n",
    "    return np.sqrt((1 - 0.6 * x ** 2) / 2)\n",
    "\n",
    "first_point, first_point_iterations = iterator(x_0, y_0, f_1_1, f_1_2)\n",
    "print(f'Первая точка пересечения - {first_point},\\nКоличество итераций - {first_point_iterations}')\n",
    "\n"
   ]
  },
  {
   "cell_type": "code",
   "execution_count": 3,
   "id": "b3534c24",
   "metadata": {},
   "outputs": [
    {
     "name": "stdout",
     "output_type": "stream",
     "text": [
      "Вторая точка пересечения - [ 0.38005849 -0.67582154],\n",
      "Количество итераций - 9\n"
     ]
    }
   ],
   "source": [
    "x_0 = np.random.rand() * 0.5\n",
    "y_0 = np.random.rand() * 0.3 - 0.8\n",
    "\n",
    "def f_2_1(x, y):\n",
    "    return x + np.tan(x * y + 0.4) - x ** 2\n",
    "\n",
    "def f_2_2(x, y):\n",
    "    return y + 1 / 4 * (0.6 * x ** 2 + 2 * y ** 2 - 1)\n",
    "\n",
    "second_point, second_point_iterations = iterator(x_0, y_0, f_2_1, f_2_2)\n",
    "print(f'Вторая точка пересечения - {second_point},\\nКоличество итераций - {second_point_iterations}')\n",
    "\n",
    "\n"
   ]
  },
  {
   "cell_type": "code",
   "execution_count": 4,
   "id": "2dad40da",
   "metadata": {},
   "outputs": [
    {
     "name": "stdout",
     "output_type": "stream",
     "text": [
      "Все точки пересечения:\n",
      "[1.04908189 0.411946  ]\n",
      "[-1.04908189 -0.411946  ]\n",
      "[ 0.38005849 -0.67582154]\n",
      "[-0.38005849  0.67582154]\n"
     ]
    }
   ],
   "source": [
    "print(f'Все точки пересечения:\\n{first_point}\\n{-first_point}\\n{second_point}\\n{-second_point}')\n",
    "      \n",
    "      "
   ]
  },
  {
   "cell_type": "code",
   "execution_count": null,
   "id": "056c68b9",
   "metadata": {},
   "outputs": [],
   "source": []
  },
  {
   "cell_type": "code",
   "execution_count": null,
   "id": "20fba863",
   "metadata": {},
   "outputs": [],
   "source": []
  },
  {
   "cell_type": "markdown",
   "id": "8ecafe12",
   "metadata": {},
   "source": [
    "### "
   ]
  }
 ],
 "metadata": {
  "kernelspec": {
   "display_name": "Python 3",
   "language": "python",
   "name": "python3"
  },
  "language_info": {
   "codemirror_mode": {
    "name": "ipython",
    "version": 3
   },
   "file_extension": ".py",
   "mimetype": "text/x-python",
   "name": "python",
   "nbconvert_exporter": "python",
   "pygments_lexer": "ipython3",
   "version": "3.8.8"
  }
 },
 "nbformat": 4,
 "nbformat_minor": 5
}
