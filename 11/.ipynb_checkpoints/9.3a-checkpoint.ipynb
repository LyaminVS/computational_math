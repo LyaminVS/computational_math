{
 "cells": [
  {
   "cell_type": "code",
   "execution_count": 1,
   "id": "729ceca3",
   "metadata": {},
   "outputs": [],
   "source": [
    "import numpy as np\n",
    "import matplotlib.pyplot as plt"
   ]
  },
  {
   "cell_type": "code",
   "execution_count": 2,
   "id": "979706bb",
   "metadata": {},
   "outputs": [],
   "source": [
    "# метод рунге-кутта\n",
    "def rk4(f, y0, x1, x2, h):\n",
    "    num = int((x2 - x1) / h)\n",
    "    \n",
    "    x_arr = np.zeros(num + 1)\n",
    "    y_arr = np.zeros((num + 1, 2))\n",
    "    \n",
    "    x_arr[0] = x1\n",
    "    y_arr[0] = y0\n",
    "    x = x1\n",
    "    y = y0\n",
    "    for i in range(1, num + 1):\n",
    "        k1 = f(x, y)\n",
    "        k2 = f(x + h / 2, y + h / 2 * k1)\n",
    "        k3 = f(x + h / 2, y + h / 2 * k2)\n",
    "        k4 = f(x + h, y + h * k3)\n",
    "        y = y + h / 6 * (k1 + 2 * k2 + 2 * k3 + k4)\n",
    "        x += h\n",
    "        x_arr[i] = x\n",
    "        y_arr[i] = y\n",
    "        \n",
    "    return (x_arr, y_arr)"
   ]
  },
  {
   "cell_type": "code",
   "execution_count": 3,
   "id": "dd210690",
   "metadata": {},
   "outputs": [],
   "source": [
    "# производная первого порядка\n",
    "def derivative(f, x, h):\n",
    "    return (f(x + h) - f(x)) / h"
   ]
  },
  {
   "cell_type": "code",
   "execution_count": 4,
   "id": "400eb1de",
   "metadata": {},
   "outputs": [],
   "source": [
    "# метод ньютона\n",
    "def newton_method(f, alpha_0, epsilon):\n",
    "    value = np.inf\n",
    "    alpha = alpha_0\n",
    "    while value > epsilon:\n",
    "        value = np.abs(f(alpha) / derivative(f, alpha, 0.001))\n",
    "        alpha = alpha - f(alpha) / derivative(f, alpha, 0.001)\n",
    "    return alpha"
   ]
  },
  {
   "cell_type": "code",
   "execution_count": 5,
   "id": "59f2d773",
   "metadata": {},
   "outputs": [],
   "source": [
    "# функция из условия\n",
    "def f(x, y):\n",
    "    return np.array([y[1], x * y[0] ** 0.5])"
   ]
  },
  {
   "cell_type": "code",
   "execution_count": 6,
   "id": "d1df1610",
   "metadata": {},
   "outputs": [],
   "source": [
    "# функция для решения методом Ньютона зависящая от параметра альфа\n",
    "def F(alpha):\n",
    "    data = rk4(f, np.array([1, alpha]), 0, 1, 0.001)\n",
    "    y = data[1][:, 0][-1] \n",
    "    return y - 2"
   ]
  },
  {
   "cell_type": "code",
   "execution_count": 7,
   "id": "a0df4dec",
   "metadata": {},
   "outputs": [
    {
     "data": {
      "text/plain": [
       "Text(0, 0.5, 'y')"
      ]
     },
     "execution_count": 7,
     "metadata": {},
     "output_type": "execute_result"
    },
    {
     "data": {
      "image/png": "[encoded data removed]",
      "text/plain": [
       "<Figure size 432x288 with 1 Axes>"
      ]
     },
     "metadata": {
      "needs_background": "light"
     },
     "output_type": "display_data"
    }
   ],
   "source": [
    "# решение методом стрельбы\n",
    "alpha = newton_method(F, 1, 0.01)\n",
    "data = rk4(f, np.array([1, alpha]), 0, 1, 0.001)\n",
    "plt.plot(data[0], data[1][:, 0])\n",
    "plt.title(f\"решения уравнения\")\n",
    "plt.xlabel('x')\n",
    "plt.ylabel('y')"
   ]
  }
 ],
 "metadata": {
  "kernelspec": {
   "display_name": "Python 3",
   "language": "python",
   "name": "python3"
  },
  "language_info": {
   "codemirror_mode": {
    "name": "ipython",
    "version": 3
   },
   "file_extension": ".py",
   "mimetype": "text/x-python",
   "name": "python",
   "nbconvert_exporter": "python",
   "pygments_lexer": "ipython3",
   "version": "3.8.8"
  }
 },
 "nbformat": 4,
 "nbformat_minor": 5
}
