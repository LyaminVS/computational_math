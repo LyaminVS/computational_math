{
 "cells": [
  {
   "cell_type": "code",
   "execution_count": null,
   "id": "c144263b",
   "metadata": {},
   "outputs": [],
   "source": []
  },
  {
   "cell_type": "code",
   "execution_count": 1,
   "id": "5efbb101",
   "metadata": {},
   "outputs": [
    {
     "name": "stderr",
     "output_type": "stream",
     "text": [
      "Missing colon in file '/Users/vasilij/.matplotlib/matplotlibrc', line 1 (\"animation.writer = 'ffmpeg'\")\n"
     ]
    }
   ],
   "source": [
    "import numpy as np\n",
    "import matplotlib.pyplot as plt\n",
    "from matplotlib.animation import FuncAnimation\n",
    "\n",
    "class HeatEquation2D:\n",
    "    def __init__(self, L, W, T, Nx, Ny, Nt, k):\n",
    "        self.L = L\n",
    "        self.W = W\n",
    "        self.T = T \n",
    "        self.Nx = Nx \n",
    "        self.Ny = Ny \n",
    "        self.Nt = Nt \n",
    "        self.k = k \n",
    "\n",
    "        self.dx = self.L / (self.Nx - 1)\n",
    "        self.dy = self.W / (self.Ny - 1)\n",
    "        self.dt = self.T / (self.Nt - 1)\n",
    "\n",
    "        self.x = np.linspace(0, self.L, self.Nx)\n",
    "        self.y = np.linspace(0, self.W, self.Ny)\n",
    "        \n",
    "        self.t = np.linspace(0, self.T, self.Nt)\n",
    "\n",
    "        self.u = np.zeros((self.Nt, self.Ny, self.Nx))\n",
    "\n",
    "        self.left_bc = lambda t, y: 0 \n",
    "        self.right_bc = lambda t, y: 0\n",
    "        self.bottom_bc = lambda t, x: 0 \n",
    "        self.top_bc = lambda t, x: 0 \n",
    "        self.f = lambda t, x, y: 0 \n",
    "\n",
    "    def set_initial_condition(self, function):\n",
    "        self.u[0] = function(self.x, self.y)\n",
    "\n",
    "    def set_left_boundary_condition(self, bc):\n",
    "        self.left_bc = bc\n",
    "\n",
    "    def set_right_boundary_condition(self, bc):\n",
    "        self.right_bc = bc\n",
    "\n",
    "    def set_bottom_boundary_condition(self, bc):\n",
    "        self.bottom_bc = bc\n",
    "\n",
    "    def set_top_boundary_condition(self, bc):\n",
    "        self.top_bc = bc\n",
    "\n",
    "    def set_f(self, f):\n",
    "        self.f = f\n",
    "\n",
    "    def solve(self):\n",
    "        Ax = self.k * self.dt / (self.dx ** 2)\n",
    "        Bx = 1 + 2 * Ax\n",
    "        Cx = -Ax\n",
    "\n",
    "        Ay = self.k * self.dt / (self.dy ** 2)\n",
    "        By = 1 + 2 * Ay\n",
    "        Cy = -Ay\n",
    "\n",
    "        for n in range(1, self.Nt):\n",
    "            for j in range(1, self.Nx - 1):\n",
    "                diag = By * np.ones(self.Ny)\n",
    "                sub = Cy * np.ones(self.Ny - 1)\n",
    "                sup = Cy * np.ones(self.Ny - 1)\n",
    "                rhs = self.u[n - 1, :, j] \n",
    "                self.u[n, :, j] = np.linalg.solve(np.diag(diag, k=0) + np.diag(sub, k=-1) + np.diag(sup, k=1), rhs)\n",
    "\n",
    "\n",
    "            for i in range(1, self.Ny - 1):\n",
    "                diag = Bx * np.ones(self.Nx)\n",
    "                sub = Cx * np.ones(self.Nx - 1)\n",
    "                sup = Cx * np.ones(self.Nx - 1)\n",
    "                rhs = self.u[n, i, :] \n",
    "                self.u[n, i, :] = np.linalg.solve(np.diag(diag, k=0) + np.diag(sub, k=-1) + np.diag(sup, k=1), rhs + self.f(self.x, self.y)[i, :] * self.dt)\n",
    "\n",
    "            \n",
    "            self.u[n, 0, :] = self.left_bc(self.t[n], self.y)\n",
    "            self.u[n, -1, :] = self.right_bc(self.t[n], self.y)\n",
    "            self.u[n, :, 0] = self.bottom_bc(self.t[n], self.x)\n",
    "            self.u[n, :, -1] = self.top_bc(self.t[n], self.x)\n",
    "\n",
    "        return self.u\n",
    "    \n",
    "    def animate_solution(self, save_as=None):\n",
    "        fig, ax = plt.subplots(figsize=(10, 8))\n",
    "        ax.set_xlabel('x')\n",
    "        ax.set_ylabel('y')\n",
    "        ax.set_title('Temperature distribution')\n",
    "        im = ax.imshow(np.rot90(self.u[0]), extent=(0, self.L, 0, self.W), cmap='jet', vmin=0, vmax=1)\n",
    "        fig.colorbar(im, ax=ax)\n",
    "\n",
    "        def update(frame):\n",
    "            im.set_data(np.rot90(self.u[frame]))\n",
    "            ax.set_title(f'Temperature distribution at t = {self.t[frame]:.2f}')\n",
    "            return [im]\n",
    "\n",
    "        ani = FuncAnimation(fig, update, frames=self.Nt, interval=50, blit=True)\n",
    "\n",
    "        if save_as:\n",
    "            ani.save(save_as, writer='ffmpeg')\n",
    "\n",
    "        plt.show()\n",
    "        \n",
    "    def real_solution_test(self, f):\n",
    "        ans = np.zeros((self.x.shape[0], self.y.shape[0]))\n",
    "        for i in range(self.x.shape[0]):\n",
    "            for j in range(self.y.shape[0]):\n",
    "                ans[i, j] = f(self.x[i], self.y[j], self.t[-1])\n",
    "        return np.max(np.abs(self.u[-1] - ans))\n",
    "#         return np.exp(-(self.x[-1]**2 + self.y[-1]**2) / (1 + 4 * self.t[-1])) / (1 + 4 * self.t[-1])\n",
    "\n",
    "        "
   ]
  },
  {
   "cell_type": "code",
   "execution_count": 2,
   "id": "11666b27",
   "metadata": {},
   "outputs": [],
   "source": [
    "\n",
    "L = 1.0\n",
    "W = 1.0\n",
    "T = 0.1\n",
    "Nx = 41\n",
    "Ny = 41\n",
    "Nt = 100\n",
    "k = 1.0\n",
    "\n",
    "heat_equation = HeatEquation2D(L, W, T, Nx, Ny, Nt, k)\n",
    "\n",
    "def initial_condition(x, y):\n",
    "    ans = np.zeros((x.shape[0], y.shape[0]))\n",
    "    for i in range(x.shape[0]):\n",
    "        for j in range(y.shape[0]):\n",
    "            ans[i, j] = np.exp(-(x[i]**2 + y[j]**2))\n",
    "    return ans\n",
    "\n",
    "def f(x, y):\n",
    "    ans = np.zeros((x.shape[0], y.shape[0]))\n",
    "#     for i in range(x.shape[0]):\n",
    "#         for j in range(y.shape[0]):\n",
    "#             ans[i, j] = 0.2 * float(int(bool(x[i] < 0.6 and x[i] > 0.4 and y[j] < 0.6 and y[j] > 0.4)))\n",
    "    return ans\n",
    "\n",
    "def left_boundary_condition(t, y):\n",
    "    ans = np.exp(-y**2 / (1 + 4 * t)) / (1 + 4 * t)\n",
    "    # ans[np.logical_and(y > 0.4 , y < 0.6)] = 10 * t\n",
    "    return ans\n",
    "\n",
    "def right_boundary_condition(t, y):\n",
    "    ans = np.exp((-y**2 - 1) / (1 + 4 * t)) / (1 + 4 * t)\n",
    "    # ans[np.logical_and(y > 0.4 , y < 0.6)] = 10 * t\n",
    "    return ans\n",
    "\n",
    "def bottom_boundary_condition(t, x):\n",
    "    ans = np.exp(-x**2 / (1 + 4 * t)) / (1 + 4 * t)\n",
    "    # ans[np.logical_and(x > 0.4 , x < 0.6)] = 10 * t\n",
    "    return ans\n",
    "\n",
    "def top_boundary_condition(t, x):\n",
    "    ans = np.exp((-x**2 - 1) / (1 + 4 * t)) / (1 + 4 * t)\n",
    "    # ans[np.logical_and(x > 0.4 , x < 0.6)] = 10 * t\n",
    "    return ans\n",
    "\n",
    "\n",
    "\n",
    "\n"
   ]
  },
  {
   "cell_type": "code",
   "execution_count": 3,
   "id": "c05ccc68",
   "metadata": {},
   "outputs": [],
   "source": [
    "# X, Y = np.meshgrid(heat_equation.x, heat_equation.y)\n",
    "# fig, ax = plt.subplots(figsize=(10, 8))\n",
    "# im = ax.imshow(solution[-2], extent=(0, heat_equation.L, 0, heat_equation.W), cmap='jet', vmin=0, vmax=10)\n",
    "# ax.set_xlabel('x')\n",
    "# ax.set_ylabel('y')\n",
    "# ax.set_title('Temperature distribution at t = {:.2f}'.format(heat_equation.T))\n",
    "# fig.colorbar(im, ax=ax)\n",
    "# plt.show()"
   ]
  },
  {
   "cell_type": "code",
   "execution_count": null,
   "id": "691bccb3",
   "metadata": {},
   "outputs": [],
   "source": []
  },
  {
   "cell_type": "code",
   "execution_count": 4,
   "id": "4b94f170",
   "metadata": {},
   "outputs": [
    {
     "name": "stderr",
     "output_type": "stream",
     "text": [
      "100%|███████████████████████████████████████████| 20/20 [00:21<00:00,  1.08s/it]\n"
     ]
    },
    {
     "data": {
      "text/plain": [
       "[<matplotlib.lines.Line2D at 0x7f8330526f70>]"
      ]
     },
     "execution_count": 4,
     "metadata": {},
     "output_type": "execute_result"
    },
    {
     "data": {
      "image/png": "[encoded data removed]",
      "text/plain": [
       "<Figure size 432x288 with 1 Axes>"
      ]
     },
     "metadata": {
      "needs_background": "light"
     },
     "output_type": "display_data"
    }
   ],
   "source": [
    "from tqdm import tqdm \n",
    "plot_data = []\n",
    "def real_sol(x, y, t):\n",
    "    return np.exp(-(x**2 + y**2) / (1 + 4 * t)) / (1 + 4 * t)\n",
    "\n",
    "for i in tqdm(r := np.arange(10, 30)):\n",
    "    heat_equation = HeatEquation2D(L, W, T, Nx, Ny, int(Nt * i / 10), k)\n",
    "    heat_equation.set_initial_condition(initial_condition)\n",
    "    heat_equation.set_left_boundary_condition(left_boundary_condition)\n",
    "    heat_equation.set_right_boundary_condition(right_boundary_condition)\n",
    "    heat_equation.set_bottom_boundary_condition(bottom_boundary_condition)\n",
    "    heat_equation.set_top_boundary_condition(top_boundary_condition)\n",
    "    heat_equation.set_f(f)\n",
    "    solution = heat_equation.solve()\n",
    "    plot_data.append(heat_equation.real_solution_test(real_sol))\n",
    "plt.plot(T / (Nt * r / 10), plot_data)"
   ]
  },
  {
   "cell_type": "code",
   "execution_count": 5,
   "id": "0b62fe45",
   "metadata": {},
   "outputs": [
    {
     "name": "stderr",
     "output_type": "stream",
     "text": [
      "100%|███████████████████████████████████████████| 20/20 [00:02<00:00,  7.66it/s]\n"
     ]
    },
    {
     "data": {
      "text/plain": [
       "[<matplotlib.lines.Line2D at 0x7f83405d0ca0>]"
      ]
     },
     "execution_count": 5,
     "metadata": {},
     "output_type": "execute_result"
    },
    {
     "data": {
      "image/png": "[encoded data removed]",
      "text/plain": [
       "<Figure size 432x288 with 1 Axes>"
      ]
     },
     "metadata": {
      "needs_background": "light"
     },
     "output_type": "display_data"
    }
   ],
   "source": [
    "plot_data = []\n",
    "for i in tqdm(r):\n",
    "    heat_equation = HeatEquation2D(L, W, T, int(Nx * i**0.5 / 10), int(Ny * i**0.5 / 10), Nt, k)\n",
    "    heat_equation.set_initial_condition(initial_condition)\n",
    "    heat_equation.set_left_boundary_condition(left_boundary_condition)\n",
    "    heat_equation.set_right_boundary_condition(right_boundary_condition)\n",
    "    heat_equation.set_bottom_boundary_condition(bottom_boundary_condition)\n",
    "    heat_equation.set_top_boundary_condition(top_boundary_condition)\n",
    "    heat_equation.set_f(f)\n",
    "    solution = heat_equation.solve()\n",
    "    plot_data.append(heat_equation.real_solution_test(real_sol))\n",
    "plt.plot(L / (Nx * r / 10), plot_data)"
   ]
  },
  {
   "cell_type": "code",
   "execution_count": null,
   "id": "e50d9d72",
   "metadata": {},
   "outputs": [],
   "source": []
  }
 ],
 "metadata": {
  "kernelspec": {
   "display_name": "Python 3",
   "language": "python",
   "name": "python3"
  },
  "language_info": {
   "codemirror_mode": {
    "name": "ipython",
    "version": 3
   },
   "file_extension": ".py",
   "mimetype": "text/x-python",
   "name": "python",
   "nbconvert_exporter": "python",
   "pygments_lexer": "ipython3",
   "version": "3.8.8"
  }
 },
 "nbformat": 4,
 "nbformat_minor": 5
}
