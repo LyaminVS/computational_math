{
 "cells": [
  {
   "cell_type": "code",
   "execution_count": 427,
   "id": "ba0fcb48",
   "metadata": {},
   "outputs": [],
   "source": [
    "import numpy as np\n",
    "np.set_printoptions(threshold=np.inf, linewidth=np.inf)"
   ]
  },
  {
   "cell_type": "code",
   "execution_count": 428,
   "id": "c9710f51",
   "metadata": {},
   "outputs": [],
   "source": [
    "# построим матрицу \n",
    "n = 9\n",
    "f = np.zeros(n + 1)\n",
    "\n",
    "\n",
    "f[0] = 1\n",
    "for i in range(2, n):\n",
    "    f[i - 1] = 2 / (i)**2\n",
    "\n",
    "f[n] = - n / 3\n",
    "\n",
    "A = np.zeros((n + 1, n + 1))\n",
    "\n",
    "A[0, 0] = 1\n",
    "\n",
    "for i in range(2, n + 1):\n",
    "    A[i - 1, i - 1] = -2\n",
    "\n",
    "A[0, 1] = 0\n",
    "\n",
    "for i in range(2, n + 1):\n",
    "    A[i - 1, i] = A[i - 1, i - 2] = 1\n",
    "\n",
    "A[n, 0] = A[n, n] = 1\n",
    "\n",
    "for i in range(1, n):\n",
    "    A[n, i] = 2\n",
    "\n",
    "A_extended = np.concatenate((A, f.reshape(-1, 1)), axis=1)"
   ]
  },
  {
   "cell_type": "code",
   "execution_count": 429,
   "id": "1dc91c3a",
   "metadata": {},
   "outputs": [
    {
     "name": "stdout",
     "output_type": "stream",
     "text": [
      "Решение: [ 1.          0.11394908 -0.27210184 -0.43593055 -0.47475925 -0.43358795 -0.33686109 -0.19931791 -0.03052473  0.13826846]\n",
      "Невязка: 9.205483015737869e-17\n"
     ]
    }
   ],
   "source": [
    "\n",
    "# Гаусс и невязка\n",
    "def Gauss(A_extended, n):\n",
    "    u = np.zeros(n + 1)\n",
    "\n",
    "    for i in range(0, n):\n",
    "        for j in range(i + 1, n + 1):\n",
    "            A_extended[j] = A_extended[j] - A_extended[j][i] / A_extended[i][i] * A_extended[i]\n",
    "\n",
    "    for i in range(n, -1, -1):\n",
    "        u[i] = 1 / A_extended[i, i] * (A_extended[i, -1] - u @ A_extended[i, :-1])\n",
    "\n",
    "    r = ((A_extended[:, :-1] @ u - A_extended[:, -1]) @ (A_extended[:, :-1] @ u - A_extended[:, -1])) ** 0.5\n",
    "    \n",
    "    return u, r\n",
    "\n",
    "u, r = Gauss(A_extended, n)\n",
    "print(f\"Решение: {u}\")\n",
    "print(f\"Невязка: {r}\")"
   ]
  },
  {
   "cell_type": "code",
   "execution_count": 430,
   "id": "bc74f422",
   "metadata": {},
   "outputs": [
    {
     "name": "stdout",
     "output_type": "stream",
     "text": [
      "Решение: [ 1.          0.11394908 -0.27210184 -0.43593055 -0.47475925 -0.43358795 -0.33686109 -0.19931791 -0.03052473  0.13826846]\n",
      "Невязка: 8.532208460941893e-10\n"
     ]
    }
   ],
   "source": [
    "# Зейдель и невязка на последнем шаге\n",
    "# Критерий останова задается числом epsilon\n",
    "def Seidel(A, n, epsilon=10e-10):\n",
    "    U = np.zeros((n + 1, n + 1))\n",
    "    L = np.zeros((n + 1, n + 1))\n",
    "    D = np.zeros((n + 1, n + 1))\n",
    "    r = np.Inf\n",
    "\n",
    "    for i in range(0, n + 1):\n",
    "        for j in range(0, n + 1):\n",
    "            if i > j:\n",
    "                L[i, j] = A[i, j]\n",
    "            if i < j:\n",
    "                U[i, j] = A[i, j]\n",
    "            if i == j:\n",
    "                D[i, j] = A[i, j]\n",
    "\n",
    "\n",
    "    u = np.zeros(n + 1)\n",
    "    while r > epsilon:\n",
    "        new_u = -np.linalg.inv(L + D) @ U @ u + np.linalg.inv(L + D) @ f\n",
    "        r = ((new_u - u) @ (new_u - u)) ** 0.5\n",
    "        u = new_u\n",
    "    return u, r\n",
    "\n",
    "u, r = Seidel(A, n)\n",
    "print(f\"Решение: {u}\")\n",
    "print(f\"Невязка: {r}\")"
   ]
  },
  {
   "cell_type": "code",
   "execution_count": 431,
   "id": "131072cd",
   "metadata": {},
   "outputs": [
    {
     "name": "stdout",
     "output_type": "stream",
     "text": [
      "-3.8793919900400518\n"
     ]
    }
   ],
   "source": [
    "# теперь найдем максимальное собственное число\n",
    "k = 0   \n",
    "u = np.ones(n + 1)\n",
    "l = 0\n",
    "while k < 100:\n",
    "    new_u = A @ u\n",
    "    l = (new_u @ u) / (u @ u)\n",
    "    u = new_u\n",
    "    k += 1\n",
    "l_max = l\n",
    "print(l_max)"
   ]
  },
  {
   "cell_type": "code",
   "execution_count": 432,
   "id": "a641ad78",
   "metadata": {},
   "outputs": [
    {
     "name": "stdout",
     "output_type": "stream",
     "text": [
      "-0.42687613375006767\n"
     ]
    }
   ],
   "source": [
    "# и минимальное \n",
    "k = 0   \n",
    "u = np.ones(n + 1)\n",
    "l = 0\n",
    "while k < 100:\n",
    "    new_u = np.linalg.inv(A) @ u\n",
    "    l = (new_u @ u) / (u @ u)\n",
    "    u = new_u\n",
    "    k += 1\n",
    "l_min = 1 / l\n",
    "print(l_min)\n"
   ]
  },
  {
   "cell_type": "code",
   "execution_count": 433,
   "id": "979d488d",
   "metadata": {},
   "outputs": [
    {
     "name": "stdout",
     "output_type": "stream",
     "text": [
      "9.087863394844657\n"
     ]
    }
   ],
   "source": [
    "# Число обусловленности \n",
    "nu = l_max / l_min\n",
    "print(nu)"
   ]
  },
  {
   "cell_type": "code",
   "execution_count": 434,
   "id": "af0fc8ee",
   "metadata": {},
   "outputs": [],
   "source": []
  }
 ],
 "metadata": {
  "kernelspec": {
   "display_name": "Python 3",
   "language": "python",
   "name": "python3"
  },
  "language_info": {
   "codemirror_mode": {
    "name": "ipython",
    "version": 3
   },
   "file_extension": ".py",
   "mimetype": "text/x-python",
   "name": "python",
   "nbconvert_exporter": "python",
   "pygments_lexer": "ipython3",
   "version": "3.8.8"
  }
 },
 "nbformat": 4,
 "nbformat_minor": 5
}
