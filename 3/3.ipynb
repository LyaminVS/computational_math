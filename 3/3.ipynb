{
 "cells": [
  {
   "cell_type": "code",
   "execution_count": 108,
   "metadata": {},
   "outputs": [],
   "source": [
    "import numpy as np\n",
    "import matplotlib.pyplot as plt\n",
    "np.set_printoptions(threshold=np.inf, linewidth=np.inf)"
   ]
  },
  {
   "cell_type": "code",
   "execution_count": 109,
   "id": "0fcf15ba",
   "metadata": {},
   "outputs": [
    {
     "name": "stdout",
     "output_type": "stream",
     "text": [
      "Коэффициенты при N = 2 равны: [ 3.55745002e+10 -3.83202593e+07  1.03367964e+04]\n",
      "Отличие от настоящего значения в 2010 году: 3997293.2333450317\n",
      "\n",
      "\n",
      "Коэффициенты при N = 3 равны: [ 3.35841105e+11 -4.99205216e+08  2.46113702e+05 -4.02006660e+01]\n",
      "Отличие от настоящего значения в 2010 году: 548075.8264160156\n",
      "\n",
      "\n",
      "Коэффициенты при N = 4 равны: [-3.21052699e+12  6.75900975e+09 -5.32405394e+06  1.85950077e+03 -2.42937676e-01]\n",
      "Отличие от настоящего значения в 2010 году: -291775.91748046875\n",
      "\n",
      "\n",
      "Коэффициенты при N = 5 равны: [-1.18137719e+13  2.08044247e+10 -1.15467605e+07  8.74243755e+02  1.07517972e+00 -2.43893176e-04]\n",
      "Отличие от настоящего значения в 2010 году: -3973595.44140625\n",
      "\n",
      "\n",
      "Минимум отличия достигается при N = 4\n"
     ]
    },
    {
     "data": {
      "image/png": "[encoded data removed]",
      "text/plain": [
       "<Figure size 432x288 with 1 Axes>"
      ]
     },
     "metadata": {
      "needs_background": "light"
     },
     "output_type": "display_data"
    }
   ],
   "source": [
    "# Пункт a\n",
    "\n",
    "x = np.array([1910, 1920, 1930, 1940, 1950, 1960, 1970, 1980, 1990, 2000], dtype = \"float64\")\n",
    "y = np.array([92228496, 106021537, 123202624, 132164569, 151325798, 179323175, 203211926, 226545805, 248709873, 281421906], dtype = \"float64\")\n",
    "N_array = np.array([2, 3, 4, 5])\n",
    "koef = 0\n",
    "\n",
    "def Gauss(A_extended, n):\n",
    "    u = np.zeros(n + 1, dtype = \"float64\")\n",
    "\n",
    "    for i in range(0, n):\n",
    "        for j in range(i + 1, n + 1):\n",
    "            A_extended[j] = A_extended[j] - A_extended[j][i] / A_extended[i][i] * A_extended[i]\n",
    "\n",
    "    for i in range(n, -1, -1):\n",
    "        u[i] = 1 / A_extended[i, i] * (A_extended[i, -1] - u @ A_extended[i, :-1])\n",
    "\n",
    "    r = ((A_extended[:, :-1] @ u - A_extended[:, -1]) @ (A_extended[:, :-1] @ u - A_extended[:, -1])) ** 0.5\n",
    "    \n",
    "    return u\n",
    "for N in N_array:\n",
    "    A_extended = np.zeros((N + 1, N + 2), dtype = \"float64\")\n",
    "    for k in range(0, N + 1):\n",
    "        for n in range(0, N + 1):\n",
    "            A_extended[k, n] = np.sum(x**(n + k))\n",
    "        A_extended[k, -1] = y @ x ** k\n",
    "    koef = Gauss(A_extended, N)\n",
    "    print(f\"Коэффициенты при N = {N} равны: {koef}\")\n",
    "    print(f\"Отличие от настоящего значения в 2010 году: {np.sum([koef[n] * 2010 ** n for n in range(0, N + 1)], axis=0) - 308473043}\")\n",
    "    print(\"\\n\")\n",
    "\n",
    "    l = np.linspace(1900, 2020, num=100000)\n",
    "\n",
    "    plt.scatter(x, y, c=\"r\")\n",
    "    plt.scatter(2010, 308473043, c=\"g\")\n",
    "    plt.plot(l, np.sum([koef[n] * l ** n for n in range(0, N + 1)], axis=0))\n",
    "    \n",
    "print(\"Минимум отличия достигается при N = 4\")"
   ]
  },
  {
   "cell_type": "code",
   "execution_count": 110,
   "id": "b1f2ffdb",
   "metadata": {},
   "outputs": [
    {
     "name": "stdout",
     "output_type": "stream",
     "text": [
      "Коэффициенты при N = 2 равны: [1.65887714e+08 2.09661478e+06 1.03367964e+04]\n",
      "Отличие от настоящего значения в 2010 году: 3997293.233333349\n",
      "\n",
      "\n",
      "Коэффициенты при N = 3 равны: [ 1.65887714e+08  2.15551115e+06  1.03367964e+04 -4.02022941e+01]\n",
      "Отличие от настоящего значения в 2010 году: 547936.4000000358\n",
      "\n",
      "\n",
      "Коэффициенты при N = 4 равны: [ 1.65421570e+08  2.15551115e+06  1.23167929e+04 -4.02022941e+01 -9.65851952e-01]\n",
      "Отличие от настоящего значения в 2010 году: -2766867.5\n",
      "\n",
      "\n",
      "Коэффициенты при N = 5 равны: [ 1.65421570e+08  2.46400145e+06  1.23167929e+04 -6.70708267e+02 -9.65851952e-01  2.44066828e-01]\n",
      "Отличие от настоящего значения в 2010 году: 32134688.933333695\n",
      "\n",
      "\n",
      "Минимум отличия достигается при N = 3\n"
     ]
    },
    {
     "data": {
      "image/png": "[encoded data removed]",
      "text/plain": [
       "<Figure size 432x288 with 1 Axes>"
      ]
     },
     "metadata": {
      "needs_background": "light"
     },
     "output_type": "display_data"
    }
   ],
   "source": [
    "# Пункт г\n",
    "\n",
    "for N in N_array:\n",
    "    A_extended = np.zeros((N + 1, N + 2), dtype = \"float64\")\n",
    "    for k in range(0, N + 1):\n",
    "        for n in range(0, N + 1):\n",
    "            A_extended[k, n] = np.sum((x - 1955)**(n + k))\n",
    "        A_extended[k, -1] = y @ (x - 1955) ** k\n",
    "    koef = Gauss(A_extended, N)\n",
    "    print(f\"Коэффициенты при N = {N} равны: {koef}\")\n",
    "    print(f\"Отличие от настоящего значения в 2010 году: {np.sum([koef[n] * (2010 - 1955) ** n for n in range(0, N + 1)], axis=0) - 308473043}\")\n",
    "    print(\"\\n\")\n",
    "\n",
    "    l = np.linspace(1900, 2020, num=100000)\n",
    "\n",
    "    plt.scatter(x, y, c=\"r\")\n",
    "    plt.scatter(2010, 308473043, c=\"g\")\n",
    "    plt.plot(l, np.sum([koef[n] * (l - 1955) ** n for n in range(0, N + 1)], axis=0))\n",
    "    \n",
    "print(\"Минимум отличия достигается при N = 3\")"
   ]
  }
 ],
 "metadata": {
  "kernelspec": {
   "display_name": "base",
   "language": "python",
   "name": "python3"
  },
  "language_info": {
   "codemirror_mode": {
    "name": "ipython",
    "version": 3
   },
   "file_extension": ".py",
   "mimetype": "text/x-python",
   "name": "python",
   "nbconvert_exporter": "python",
   "pygments_lexer": "ipython3",
   "version": "3.8.8"
  }
 },
 "nbformat": 4,
 "nbformat_minor": 5
}
