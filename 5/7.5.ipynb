{
 "cells": [
  {
   "cell_type": "code",
   "execution_count": 1,
   "id": "99059809",
   "metadata": {},
   "outputs": [],
   "source": [
    "import numpy as np\n",
    "def dihotomia(a, b, f, x, number, delta=1e-3, epsilon=1e-3):\n",
    "    u_1 = x[::]\n",
    "    u_2 = x[::]\n",
    "    for n in range(1 + int(np.log2((b - a - delta) / (2 * epsilon - delta)))):\n",
    "        n_max = n\n",
    "        \n",
    "        u_1[number] = (b + a - delta) / 2\n",
    "        u_2[number] = (b + a + delta) / 2\n",
    "#         print(u_1, u_2)\n",
    "        a_prev, b_prev = a, b\n",
    "        if f(u_1) <= f(u_2):\n",
    "            b = u_2[number]\n",
    "        else:\n",
    "            a = u_1[number]\n",
    "    x[number] = (b + a) / 2\n",
    "    return x"
   ]
  },
  {
   "cell_type": "code",
   "execution_count": 2,
   "id": "660803a5",
   "metadata": {},
   "outputs": [
    {
     "name": "stdout",
     "output_type": "stream",
     "text": [
      "Точка минимума: [-0.8095908660888672, 0.5868236846923829] \n",
      "Значение функции в точке миимума 4.969920755327879e-07\n"
     ]
    }
   ],
   "source": [
    "def f(arr):\n",
    "    x = arr[0]\n",
    "    y = arr[1]\n",
    "    return (x ** 2 + y ** 2 - 1) ** 2 + (y - x * np.sin(x)) ** 2\n",
    "# метод покоординатного спуска\n",
    "epsilon = 1e-4\n",
    "a = [np.random.rand() * 10 - 5, np.random.rand() * 10 - 5]\n",
    "a_prev = [float('inf'), float('inf')]\n",
    "while ((a[0] - a_prev[0]) ** 2 + (a[1] - a_prev[1]) ** 2) ** 0.5 > epsilon:\n",
    "    a_prev = a[::]\n",
    "    a = dihotomia(-10, 10, f, a, 0)\n",
    "    a = dihotomia(-10, 10, f, a, 1)\n",
    "print(f\"Точка минимума: {a} \\nЗначение функции в точке миимума {f(a)}\")\n"
   ]
  },
  {
   "cell_type": "code",
   "execution_count": 3,
   "id": "ddc988b2",
   "metadata": {},
   "outputs": [
    {
     "name": "stdout",
     "output_type": "stream",
     "text": [
      "Точка минимума: [0.80911599 0.5875212 ] \n",
      "Значение функции в точке миимума 3.951940109377242e-06\n"
     ]
    }
   ],
   "source": [
    "# динамический метод\n",
    "def grad_f(arr):\n",
    "    x = arr[0]\n",
    "    y = arr[1]\n",
    "    return np.array([2 * (x ** 2 + y ** 2 - 1) * 2 * x + 2 * (y - x * np.sin(x)) * (-np.sin(x) - x * np.cos(x)), 2 * (x ** 2 + y ** 2 - 1) * 2 * y + 2 * (y - x * np.sin(x))])\n",
    "\n",
    "x = np.array([1, 1])\n",
    "v = np.array([0, 0])\n",
    "\n",
    "tau = 0.1\n",
    "beta = 0.935\n",
    "\n",
    "x_prev = np.array([np.Inf, np.Inf])\n",
    "v_prev = v.copy()\n",
    "\n",
    "while (np.sum((x_prev - x) ** 2)) ** 0.5 > epsilon:\n",
    "    x_prev = x.copy()\n",
    "    v_prev = v.copy()\n",
    "    \n",
    "    v = v - tau * grad_f(x)\n",
    "    v = beta * v\n",
    "    x = x + tau * v\n",
    "\n",
    "print(f\"Точка минимума: {x} \\nЗначение функции в точке миимума {f(x)}\")\n",
    "    "
   ]
  }
 ],
 "metadata": {
  "kernelspec": {
   "display_name": "Python 3",
   "language": "python",
   "name": "python3"
  },
  "language_info": {
   "codemirror_mode": {
    "name": "ipython",
    "version": 3
   },
   "file_extension": ".py",
   "mimetype": "text/x-python",
   "name": "python",
   "nbconvert_exporter": "python",
   "pygments_lexer": "ipython3",
   "version": "3.8.8"
  }
 },
 "nbformat": 4,
 "nbformat_minor": 5
}
