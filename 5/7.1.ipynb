{
 "cells": [
  {
   "cell_type": "code",
   "execution_count": 1,
   "id": "c73a8a65",
   "metadata": {},
   "outputs": [],
   "source": [
    "import numpy as np\n",
    "# метод дихотомии\n",
    "\n",
    "def dihotomia(a, b, f, delta=1e-4, epsilon=1e-4):\n",
    "\n",
    "    for n in range(int(np.log2((b - a - delta) / (2 * epsilon - delta)))):\n",
    "        n_max = n\n",
    "        u_1 = (b + a - delta) / 2\n",
    "        u_2 = (b + a + delta) / 2\n",
    "        a_prev, b_prev = a, b\n",
    "        if f(u_1) <= f(u_2):\n",
    "            b = u_2\n",
    "        else:\n",
    "            a = u_1\n",
    "    return (b + a) / 2\n",
    "    "
   ]
  },
  {
   "cell_type": "code",
   "execution_count": 2,
   "id": "c6b8e7f1",
   "metadata": {},
   "outputs": [
    {
     "name": "stdout",
     "output_type": "stream",
     "text": [
      "Точка минимума -6.103210449218751e-05\n"
     ]
    }
   ],
   "source": [
    "def f(t):\n",
    "    return t ** 3 / 3 + t ** 2\n",
    "print(f\"Точка минимума {dihotomia(-1, 1, f)}\")"
   ]
  },
  {
   "cell_type": "code",
   "execution_count": null,
   "id": "477c11f2",
   "metadata": {},
   "outputs": [],
   "source": []
  },
  {
   "cell_type": "code",
   "execution_count": null,
   "id": "a52d7217",
   "metadata": {},
   "outputs": [],
   "source": []
  },
  {
   "cell_type": "code",
   "execution_count": null,
   "id": "3f599e80",
   "metadata": {},
   "outputs": [],
   "source": []
  }
 ],
 "metadata": {
  "kernelspec": {
   "display_name": "Python 3",
   "language": "python",
   "name": "python3"
  },
  "language_info": {
   "codemirror_mode": {
    "name": "ipython",
    "version": 3
   },
   "file_extension": ".py",
   "mimetype": "text/x-python",
   "name": "python",
   "nbconvert_exporter": "python",
   "pygments_lexer": "ipython3",
   "version": "3.8.8"
  }
 },
 "nbformat": 4,
 "nbformat_minor": 5
}
