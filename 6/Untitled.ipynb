{
 "cells": [
  {
   "cell_type": "code",
   "execution_count": 1,
   "id": "f3663f7c",
   "metadata": {},
   "outputs": [],
   "source": [
    "import numpy as np\n",
    "import matplotlib.pyplot as plt"
   ]
  },
  {
   "cell_type": "code",
   "execution_count": 2,
   "id": "db70f939",
   "metadata": {},
   "outputs": [],
   "source": [
    "x = np.array([0, 0.1, 0.2, 0.3, 0.4])\n",
    "y = np.array([5, 2.5, 3, -2.5, -0.2])"
   ]
  },
  {
   "cell_type": "code",
   "execution_count": 3,
   "id": "b3b77c40",
   "metadata": {},
   "outputs": [
    {
     "name": "stdout",
     "output_type": "stream",
     "text": [
      "\n",
      "\n",
      "5.0  2.5  3.0  -2.5  -0.2  \n",
      "\n",
      "-25.0  5.0  -55.0  23.0  \n",
      "\n",
      "150.0  -300.0  390.0  \n",
      "\n",
      "-1500.0  2300.0  \n",
      "\n",
      "9500.0  \n",
      "\n"
     ]
    },
    {
     "data": {
      "image/png": "[encoded data removed]",
      "text/plain": [
       "<Figure size 432x288 with 1 Axes>"
      ]
     },
     "metadata": {
      "needs_background": "light"
     },
     "output_type": "display_data"
    }
   ],
   "source": [
    "class TableUnit:\n",
    "    def __init__(self, y, x_left, x_right):\n",
    "        self.y = y\n",
    "        self.x_left = x_left\n",
    "        self.x_right = x_right\n",
    "        \n",
    "    def __sub__(self, other):\n",
    "        result = TableUnit((self.y - other.y) / (self.x_left - other.x_right), self.x_left, other.x_right)\n",
    "        return result\n",
    "\n",
    "class Polynom:\n",
    "    def __init__(self, x, y):\n",
    "        self.x = x\n",
    "        self.y = y\n",
    "        self.n = len(x)\n",
    "        self.table = [[float('nan') for i in range(self.n)] for j in range(self.n)]\n",
    "        for i in range(0, self.n):\n",
    "            self.table[0][i] = TableUnit(y[i], x[i], x[i])\n",
    "        \n",
    "\n",
    "    def divided_difference_table(self):\n",
    "        for i in range(1, self.n):\n",
    "            for j in range(0, self.n - i):\n",
    "                self.table[i][j] = self.table[i - 1][j] - self.table[i - 1][j + 1]\n",
    "    \n",
    "    def print_table(self):\n",
    "        for i in range(0, self.n):\n",
    "            print(\"\\n\")\n",
    "            for j in range(0, self.n - i):\n",
    "                print(np.round(self.table[i][j].y, 4), \" \", end=\"\")\n",
    "        print(\"\\n\")\n",
    "                \n",
    "    def polynom(self, point): \n",
    "        s = 0\n",
    "        for i in range(self.n):\n",
    "            s += np.product([point - self.x[j] for j in range(i)]) * self.table[i][0].y\n",
    "        return s\n",
    "\n",
    "    \n",
    "    def plot(self, a, b):\n",
    "        y_s = []\n",
    "        points = np.linspace(a, b, num=10000)\n",
    "        for point in points:\n",
    "            y_s.append(self.polynom(point))\n",
    "        plt.plot(points, y_s)\n",
    "        plt.scatter(self.x, self.y, color=\"r\")\n",
    "        plt.show()\n",
    "\n",
    "\n",
    "poly = Polynom(x, y)\n",
    "poly.divided_difference_table()\n",
    "poly.print_table()\n",
    "poly.plot(-0.1, 0.5)"
   ]
  }
 ],
 "metadata": {
  "kernelspec": {
   "display_name": "Python 3",
   "language": "python",
   "name": "python3"
  },
  "language_info": {
   "codemirror_mode": {
    "name": "ipython",
    "version": 3
   },
   "file_extension": ".py",
   "mimetype": "text/x-python",
   "name": "python",
   "nbconvert_exporter": "python",
   "pygments_lexer": "ipython3",
   "version": "3.8.8"
  }
 },
 "nbformat": 4,
 "nbformat_minor": 5
}
