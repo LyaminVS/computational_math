{
 "cells": [
  {
   "cell_type": "code",
   "execution_count": 1,
   "id": "18d5f9b9",
   "metadata": {},
   "outputs": [],
   "source": [
    "import numpy as np\n",
    "import matplotlib.pyplot as plt"
   ]
  },
  {
   "cell_type": "code",
   "execution_count": 2,
   "id": "9ffdcb14",
   "metadata": {},
   "outputs": [],
   "source": [
    "x = np.array([0.2, 0.25, 0.27, 0.3])\n",
    "f_x = np.array([0.029, -0.080, -0.122, -0.185])"
   ]
  },
  {
   "cell_type": "code",
   "execution_count": 3,
   "id": "91079991",
   "metadata": {},
   "outputs": [
    {
     "name": "stdout",
     "output_type": "stream",
     "text": [
      "Значение, в котором функция равна 0: 0.21288120069524213\n"
     ]
    },
    {
     "data": {
      "image/png": "[encoded data removed]",
      "text/plain": [
       "<Figure size 432x288 with 1 Axes>"
      ]
     },
     "metadata": {
      "needs_background": "light"
     },
     "output_type": "display_data"
    }
   ],
   "source": [
    "class TableUnit:\n",
    "    def __init__(self, y, x_left, x_right):\n",
    "        self.y = y\n",
    "        self.x_left = x_left\n",
    "        self.x_right = x_right\n",
    "        \n",
    "    def __sub__(self, other):\n",
    "        result = TableUnit((self.y - other.y) / (self.x_left - other.x_right), self.x_left, other.x_right)\n",
    "        return result\n",
    "\n",
    "class Polynom:\n",
    "    def __init__(self, x, y):\n",
    "        self.x = x\n",
    "        self.y = y\n",
    "        self.n = len(x)\n",
    "        self.table = [[float('nan') for i in range(self.n)] for j in range(self.n)]\n",
    "        for i in range(0, self.n):\n",
    "            self.table[0][i] = TableUnit(y[i], x[i], x[i])\n",
    "        \n",
    "\n",
    "    def divided_difference_table(self):\n",
    "        for i in range(1, self.n):\n",
    "            for j in range(0, self.n - i):\n",
    "                self.table[i][j] = self.table[i - 1][j] - self.table[i - 1][j + 1]\n",
    "    \n",
    "    def print_table(self):\n",
    "        for i in range(0, self.n):\n",
    "            print(\"\\n\")\n",
    "            for j in range(0, self.n - i):\n",
    "                print(np.round(self.table[i][j].y, 4), \" \", end=\"\")\n",
    "        print(\"\\n\")\n",
    "                \n",
    "    def polynom(self, point): \n",
    "        s = 0\n",
    "        for i in range(self.n):\n",
    "            s += np.product([point - self.x[j] for j in range(i)]) * self.table[i][0].y\n",
    "        return s\n",
    "\n",
    "    \n",
    "    def plot(self, a, b):\n",
    "        y_s = []\n",
    "        points = np.linspace(-1, 1, num=10000)\n",
    "        for point in points:\n",
    "            y_s.append(self.polynom(point))\n",
    "        plt.plot(points, y_s)\n",
    "        plt.scatter(self.x, self.y, color=\"r\")\n",
    "        plt.show()\n",
    "\n",
    "poly = Polynom(f_x, x)\n",
    "poly.divided_difference_table()\n",
    "print(f\"Значение, в котором функция равна 0: {poly.polynom(0)}\")\n",
    "poly.plot(-1, 1)\n"
   ]
  },
  {
   "cell_type": "markdown",
   "id": "8d5e5a9e",
   "metadata": {},
   "source": [
    "Ошибка вычисляется по формуле $r \\lt \\frac{\\frac{d^4 f}{dx^4}}{4!} \\omega_4 = 10^{-6}$\n"
   ]
  },
  {
   "cell_type": "code",
   "execution_count": null,
   "id": "b1e2bda6",
   "metadata": {},
   "outputs": [],
   "source": []
  }
 ],
 "metadata": {
  "kernelspec": {
   "display_name": "Python 3",
   "language": "python",
   "name": "python3"
  },
  "language_info": {
   "codemirror_mode": {
    "name": "ipython",
    "version": 3
   },
   "file_extension": ".py",
   "mimetype": "text/x-python",
   "name": "python",
   "nbconvert_exporter": "python",
   "pygments_lexer": "ipython3",
   "version": "3.8.8"
  }
 },
 "nbformat": 4,
 "nbformat_minor": 5
}
