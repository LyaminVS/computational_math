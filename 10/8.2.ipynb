{
 "cells": [
  {
   "cell_type": "code",
   "execution_count": 1,
   "id": "119d9a12",
   "metadata": {},
   "outputs": [],
   "source": [
    "import numpy as np\n",
    "import matplotlib.pyplot as plt"
   ]
  },
  {
   "cell_type": "code",
   "execution_count": 2,
   "id": "86e2b7a5",
   "metadata": {},
   "outputs": [],
   "source": [
    "def rk4(f, y0, x1, x2, h):\n",
    "    num = int((x2 - x1) / h)\n",
    "    \n",
    "    x_arr = np.zeros(num + 1)\n",
    "    y_arr = np.zeros((num + 1, 2))\n",
    "    \n",
    "    x_arr[0] = x1\n",
    "    y_arr[0] = y0\n",
    "    x = x1\n",
    "    y = y0\n",
    "    for i in range(1, num + 1):\n",
    "        k1 = f(x, y)\n",
    "        k2 = f(x + h / 2, y + h / 2 * k1)\n",
    "        k3 = f(x + h / 2, y + h / 2 * k2)\n",
    "        k4 = f(x + h, y + h * k3)\n",
    "        y = y + h / 6 * (k1 + 2 * k2 + 2 * k3 + k4)\n",
    "        x += h\n",
    "        x_arr[i] = x\n",
    "        y_arr[i] = y\n",
    "        \n",
    "    return (x_arr, y_arr)"
   ]
  },
  {
   "cell_type": "code",
   "execution_count": 3,
   "id": "55bcb774",
   "metadata": {},
   "outputs": [],
   "source": [
    "def f(x, y):\n",
    "    return np.array([y[1], 2 * x + 3 * y[0]])"
   ]
  },
  {
   "cell_type": "code",
   "execution_count": 4,
   "id": "8cb328bf",
   "metadata": {},
   "outputs": [
    {
     "data": {
      "text/plain": [
       "Text(0, 0.5, 'y')"
      ]
     },
     "execution_count": 4,
     "metadata": {},
     "output_type": "execute_result"
    },
    {
     "data": {
      "image/png": "[encoded data removed]",
      "text/plain": [
       "<Figure size 432x288 with 1 Axes>"
      ]
     },
     "metadata": {
      "needs_background": "light"
     },
     "output_type": "display_data"
    }
   ],
   "source": [
    "data = rk4(f, np.array([0, 5 * 3**0.5 * np.sinh(3**0.5 / 2)]), 0, 10, 0.01)\n",
    "# print(data)\n",
    "plt.plot(data[0], data[1][:, 0])\n",
    "plt.xlabel('x')\n",
    "plt.ylabel('y')"
   ]
  },
  {
   "cell_type": "code",
   "execution_count": 5,
   "id": "11dda725",
   "metadata": {},
   "outputs": [
    {
     "data": {
      "text/plain": [
       "Text(0, 0.5, 'dy/dx')"
      ]
     },
     "execution_count": 5,
     "metadata": {},
     "output_type": "execute_result"
    },
    {
     "data": {
      "image/png": "[encoded data removed]",
      "text/plain": [
       "<Figure size 432x288 with 1 Axes>"
      ]
     },
     "metadata": {
      "needs_background": "light"
     },
     "output_type": "display_data"
    }
   ],
   "source": [
    "plt.plot(data[0], data[1][:, 1])\n",
    "plt.xlabel('x')\n",
    "plt.ylabel('dy/dx')"
   ]
  }
 ],
 "metadata": {
  "kernelspec": {
   "display_name": "Python 3",
   "language": "python",
   "name": "python3"
  },
  "language_info": {
   "codemirror_mode": {
    "name": "ipython",
    "version": 3
   },
   "file_extension": ".py",
   "mimetype": "text/x-python",
   "name": "python",
   "nbconvert_exporter": "python",
   "pygments_lexer": "ipython3",
   "version": "3.8.8"
  }
 },
 "nbformat": 4,
 "nbformat_minor": 5
}
