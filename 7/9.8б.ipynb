{
 "cells": [
  {
   "cell_type": "code",
   "execution_count": 1,
   "id": "b140a31a",
   "metadata": {},
   "outputs": [],
   "source": [
    "import numpy as np"
   ]
  },
  {
   "cell_type": "code",
   "execution_count": 2,
   "id": "50f04657",
   "metadata": {},
   "outputs": [],
   "source": [
    "def simpson(x, f):\n",
    "    h = x[1] - x[0]\n",
    "    s = 0\n",
    "    n = len(x)\n",
    "    for i in range(int(np.floor(n / 2 - 0.1))):\n",
    "        s += h / 3 * (f[2 * i] + 4 * f[2 * i + 1] + f[2 * i + 2])\n",
    "        \n",
    "    return s\n"
   ]
  },
  {
   "cell_type": "code",
   "execution_count": 3,
   "id": "0dcdb285",
   "metadata": {},
   "outputs": [
    {
     "name": "stdout",
     "output_type": "stream",
     "text": [
      "Ответ универсальным методом 1.8698183730853444\n"
     ]
    }
   ],
   "source": [
    "# универсальный метод\n",
    "# h и delta посчитал в pdfке\n",
    "\n",
    "def f(x):\n",
    "    return np.cos(x) / x ** 0.5\n",
    "\n",
    "def f_int(x):\n",
    "    return 2 * x ** 2 - 1 / 5 * x ** (5 / 2) + 1 / 108 * x ** (9 / 2)\n",
    "\n",
    "def universal(f, f_int, h, delta):\n",
    "    x = np.arange(0.3, 1, 0.03)[:-1]\n",
    "    return f_int(delta) + simpson(x, f(x))\n",
    "\n",
    "print(f\"Ответ универсальным методом {universal(f, f_int, 0.03, 0.8)}\")"
   ]
  },
  {
   "cell_type": "code",
   "execution_count": 4,
   "id": "56b9de79",
   "metadata": {},
   "outputs": [
    {
     "name": "stdout",
     "output_type": "stream",
     "text": [
      "Ответ универсальным методом 1.808652316594529\n"
     ]
    }
   ],
   "source": [
    "# метод регуляризации \n",
    "\n",
    "def fphi(x):\n",
    "    return (np.cos(x) - 1 + x ** 2 / 2) / x ** 0.5 \n",
    "\n",
    "x = np.linspace(0.01, 1, num=100)\n",
    "print(f\"Ответ универсальным методом {2 - 1 / 5 + simpson(x, fphi(x))}\")"
   ]
  }
 ],
 "metadata": {
  "kernelspec": {
   "display_name": "Python 3",
   "language": "python",
   "name": "python3"
  },
  "language_info": {
   "codemirror_mode": {
    "name": "ipython",
    "version": 3
   },
   "file_extension": ".py",
   "mimetype": "text/x-python",
   "name": "python",
   "nbconvert_exporter": "python",
   "pygments_lexer": "ipython3",
   "version": "3.8.8"
  }
 },
 "nbformat": 4,
 "nbformat_minor": 5
}
