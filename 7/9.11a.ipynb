{
 "cells": [
  {
   "cell_type": "code",
   "execution_count": 1,
   "id": "77cd455b",
   "metadata": {},
   "outputs": [],
   "source": [
    "import numpy as np"
   ]
  },
  {
   "cell_type": "code",
   "execution_count": 2,
   "id": "a8519df6",
   "metadata": {},
   "outputs": [],
   "source": [
    "points = np.array([0, 1, 2, 3, 4])\n",
    "f = np.array([0, 0.5, 0.86603, 1, 0.86603])"
   ]
  },
  {
   "cell_type": "code",
   "execution_count": 3,
   "id": "98c543f7",
   "metadata": {},
   "outputs": [],
   "source": [
    "# метод симпсона \n",
    "def simpson(x, f):\n",
    "    h = x[1] - x[0]\n",
    "    s = 0\n",
    "    n = len(x)\n",
    "\n",
    "    for i in range(int(np.floor(n / 2 - 0.1))):\n",
    "        s += h / 3 * (f[2 * i] + 4 * f[2 * i + 1] + f[2 * i + 2])\n",
    "        \n",
    "    return s"
   ]
  },
  {
   "cell_type": "code",
   "execution_count": 4,
   "id": "0e3b5a13",
   "metadata": {},
   "outputs": [],
   "source": [
    "# коэффициенты сплайна посчитаны в pdf\n",
    "# фуекция для сплайна\n",
    "def spline(x):\n",
    "    a = np.array([0.5, 0.86603, 1, 0.86603])\n",
    "    b = np.array([0.45181, 0.26675, -0.01879, -0.19156])\n",
    "    c = np.array([-0.45181, -0.22557, -0.34552, 0])\n",
    "    d = np.array([-0.14456, -0.08101, -0.11995, 0.34552])\n",
    "    points = np.array([0, 1, 2, 3, 4])\n",
    "    \n",
    "    if points[0] <= x <= points[1]:\n",
    "        return a[0] + b[0] * (x - points[1]) + c[0] / 2 * (x - points[1]) ** 2 + d[0] / 6 * (x - points[1]) ** 3\n",
    "    if points[1] <= x <= points[2]:\n",
    "        return a[1] + b[1] * (x - points[2]) + c[1] / 2 * (x - points[2]) ** 2 + d[1] / 6 * (x - points[2]) ** 3\n",
    "    if points[2] <= x <= points[3]:\n",
    "        return a[2] + b[2] * (x - points[3]) + c[2] / 2 * (x - points[3]) ** 2 + d[2] / 6 * (x - points[3]) ** 3\n",
    "    if points[3] <= x <= points[4]:\n",
    "        return a[3] + b[3] * (x - points[4]) + c[3] / 2 * (x - points[4]) ** 2 + d[3] / 6 * (x - points[4]) ** 3\n"
   ]
  },
  {
   "cell_type": "code",
   "execution_count": 5,
   "id": "38913084",
   "metadata": {},
   "outputs": [
    {
     "name": "stdout",
     "output_type": "stream",
     "text": [
      "интеграл равен -0.00826604217325013\n"
     ]
    }
   ],
   "source": [
    "# задаем точки для метод Симсона и считаем в них сплайн\n",
    "x = np.linspace(0, 4, num=1000)\n",
    "spline_points = np.array([])\n",
    "\n",
    "for x_el in x:\n",
    "    spline_points = np.append(spline_points, spline(x_el) * np.sin(50 * x_el))\n",
    "\n",
    "print(f\"интеграл равен {simpson(x, spline_points)}\")"
   ]
  },
  {
   "cell_type": "code",
   "execution_count": null,
   "id": "a403a171",
   "metadata": {},
   "outputs": [],
   "source": []
  }
 ],
 "metadata": {
  "kernelspec": {
   "display_name": "Python 3",
   "language": "python",
   "name": "python3"
  },
  "language_info": {
   "codemirror_mode": {
    "name": "ipython",
    "version": 3
   },
   "file_extension": ".py",
   "mimetype": "text/x-python",
   "name": "python",
   "nbconvert_exporter": "python",
   "pygments_lexer": "ipython3",
   "version": "3.8.8"
  }
 },
 "nbformat": 4,
 "nbformat_minor": 5
}
