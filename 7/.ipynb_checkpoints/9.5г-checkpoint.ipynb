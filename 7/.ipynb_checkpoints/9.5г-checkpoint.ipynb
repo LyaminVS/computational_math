{
 "cells": [
  {
   "cell_type": "code",
   "execution_count": 1,
   "id": "1073e9cc",
   "metadata": {},
   "outputs": [],
   "source": [
    "import numpy as np"
   ]
  },
  {
   "cell_type": "code",
   "execution_count": 2,
   "id": "67701b4e",
   "metadata": {},
   "outputs": [
    {
     "name": "stdout",
     "output_type": "stream",
     "text": [
      "Метод трапеции: 1.57509475\n",
      "Мнтерполяция Ричардсона: 1.5760136666666669\n",
      "Метод Симпсона: 1.5760136666666666\n",
      "Интерполяция Ричардсона для метода трапеции и Метод Симпсона дали одинаковый результат, что согласуется с теорией\n"
     ]
    }
   ],
   "source": [
    "x = np.array([0, 0.25, 0.5, 0.75, 1, 1.25, 1.5, 1.75, 2])\n",
    "f = np.array([1, 0.979915, 0.927295, 0.858001, 0.785398, 0.716844, 0.655196, 0.600943, 0.553574])\n",
    "\n",
    "\n",
    "# метод трапеции\n",
    "def trapecia(x, f):\n",
    "    h = x[1] - x[0]\n",
    "    s = 0\n",
    "    n = len(x)\n",
    "\n",
    "    for i in range(n - 1):\n",
    "        s += h / 2 * (f[i + 1] + f[i])\n",
    "    \n",
    "    return s\n",
    "\n",
    "\n",
    "# интерполяция Ричардсона\n",
    "def richardson(x, f):\n",
    "    h = x[1] - x[0]\n",
    "    \n",
    "    I_h_2 = trapecia(x, f)\n",
    "    I_h = trapecia(x[::2], f[::2])\n",
    "    \n",
    "    return I_h_2 + (I_h_2 - I_h) / (2 ** 2 - 1)\n",
    "\n",
    "\n",
    "# метод Симпсона\n",
    "def simpson(x, f):\n",
    "    h = x[1] - x[0]\n",
    "    s = 0\n",
    "    n = len(x)\n",
    "\n",
    "    for i in range(int(np.floor(n / 2))):\n",
    "        s += h / 3 * (f[2 * i] + 4 * f[2 * i + 1] + f[2 * i + 2])\n",
    "        \n",
    "    return s\n",
    "\n",
    "\n",
    "print(f\"Метод трапеции: {trapecia(x, f)}\")\n",
    "print(f\"Мнтерполяция Ричардсона: {richardson(x, f)}\")\n",
    "print(f\"Метод Симпсона: {simpson(x, f)}\")\n",
    "print(\"Интерполяция Ричардсона для метода трапеции и Метод Симпсона дали одинаковый результат, что согласуется с теорией\")"
   ]
  }
 ],
 "metadata": {
  "kernelspec": {
   "display_name": "Python 3",
   "language": "python",
   "name": "python3"
  },
  "language_info": {
   "codemirror_mode": {
    "name": "ipython",
    "version": 3
   },
   "file_extension": ".py",
   "mimetype": "text/x-python",
   "name": "python",
   "nbconvert_exporter": "python",
   "pygments_lexer": "ipython3",
   "version": "3.8.8"
  }
 },
 "nbformat": 4,
 "nbformat_minor": 5
}
